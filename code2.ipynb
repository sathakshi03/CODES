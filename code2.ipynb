{
  "nbformat": 4,
  "nbformat_minor": 0,
  "metadata": {
    "colab": {
      "provenance": [],
      "authorship_tag": "ABX9TyOWgRlPAzWuCs1G8Dgooi59",
      "include_colab_link": true
    },
    "kernelspec": {
      "name": "python3",
      "display_name": "Python 3"
    },
    "language_info": {
      "name": "python"
    }
  },
  "cells": [
    {
      "cell_type": "markdown",
      "metadata": {
        "id": "view-in-github",
        "colab_type": "text"
      },
      "source": [
        "<a href=\"https://colab.research.google.com/github/sathakshi03/CODES/blob/main/code2.ipynb\" target=\"_parent\"><img src=\"https://colab.research.google.com/assets/colab-badge.svg\" alt=\"Open In Colab\"/></a>"
      ]
    },
    {
      "cell_type": "markdown",
      "source": [
        "check given string is vowel or consonant"
      ],
      "metadata": {
        "id": "qXF212215Ul6"
      }
    },
    {
      "cell_type": "code",
      "source": [
        "c=input()\n",
        "d=c.lower()\n",
        "if d=='a' or d=='e' or d=='i' or d=='o' or d=='u':\n",
        "    print('vowel')\n",
        "else:\n",
        "    print('consonant')"
      ],
      "metadata": {
        "colab": {
          "base_uri": "https://localhost:8080/"
        },
        "id": "vWQ3Kyt05j_t",
        "outputId": "2908d859-9b18-40c0-f1de-b66f53e80d1e"
      },
      "execution_count": null,
      "outputs": [
        {
          "output_type": "stream",
          "name": "stdout",
          "text": [
            "B\n",
            "consonant\n"
          ]
        }
      ]
    },
    {
      "cell_type": "markdown",
      "source": [
        "print count of vowels and consonants"
      ],
      "metadata": {
        "id": "HVgiogj-5_Ru"
      }
    },
    {
      "cell_type": "code",
      "source": [
        "a=input()\n",
        "v=0\n",
        "c=0\n",
        "a=a.lower()\n",
        "for i in a:\n",
        "    if i=='a' or i=='e' or i=='i' or i=='o' or i=='u':\n",
        "        v=v+1\n",
        "    else:\n",
        "        c=c+1\n",
        "print('vowels=',v)\n",
        "print('consonants=',c)"
      ],
      "metadata": {
        "colab": {
          "base_uri": "https://localhost:8080/"
        },
        "id": "TCRea-Jv6cfR",
        "outputId": "7d759784-0dcf-4844-b645-68a7f2e85b1e"
      },
      "execution_count": null,
      "outputs": [
        {
          "output_type": "stream",
          "name": "stdout",
          "text": [
            "Satha\n",
            "vowels= 2\n",
            "consonants= 3\n"
          ]
        }
      ]
    },
    {
      "cell_type": "markdown",
      "source": [
        "check whether given input is alphabet or not"
      ],
      "metadata": {
        "id": "EpZLds4c9CDf"
      }
    },
    {
      "cell_type": "code",
      "source": [
        "ch=input()\n",
        "if 'a'<=ch<='z' or'A'<=ch<='Z':\n",
        "  print('alphabet')\n",
        "else:\n",
        "  print('not an alphabet',)"
      ],
      "metadata": {
        "colab": {
          "base_uri": "https://localhost:8080/"
        },
        "id": "CVlyQYgp9JDY",
        "outputId": "9bc6236a-0a4c-4e82-f659-af3a511ebde4"
      },
      "execution_count": null,
      "outputs": [
        {
          "output_type": "stream",
          "name": "stdout",
          "text": [
            "UH\n",
            "alphabet\n"
          ]
        }
      ]
    },
    {
      "cell_type": "markdown",
      "source": [
        "FIND THE ASCII VALUE OF A CHARACTER"
      ],
      "metadata": {
        "id": "8EEiLRRNAAjP"
      }
    },
    {
      "cell_type": "code",
      "source": [
        "a=input()\n",
        "b=ord(a)\n",
        "print(b)"
      ],
      "metadata": {
        "colab": {
          "base_uri": "https://localhost:8080/"
        },
        "id": "HzNJ6DY8AFLM",
        "outputId": "cfe88399-eed1-4493-8ffd-abcc19ca57cf"
      },
      "execution_count": null,
      "outputs": [
        {
          "output_type": "stream",
          "name": "stdout",
          "text": [
            "#\n",
            "35\n"
          ]
        }
      ]
    },
    {
      "cell_type": "markdown",
      "source": [
        "TO FIND THE LENGTH OF THE STRING WITHOUT USING STRING FUNCTION"
      ],
      "metadata": {
        "id": "FsUtlld7ApCt"
      }
    },
    {
      "cell_type": "code",
      "source": [
        "s=input()\n",
        "c=0\n",
        "for i in s:\n",
        "  c=c+1\n",
        "print(c)"
      ],
      "metadata": {
        "colab": {
          "base_uri": "https://localhost:8080/"
        },
        "id": "FV1WYPzJAyG4",
        "outputId": "2289cb61-d73f-4095-edb2-19549f6af838"
      },
      "execution_count": null,
      "outputs": [
        {
          "output_type": "stream",
          "name": "stdout",
          "text": [
            "satha\n",
            "5\n"
          ]
        }
      ]
    },
    {
      "cell_type": "markdown",
      "source": [
        "TOGGLE EACH CHARACTER IN A STRING"
      ],
      "metadata": {
        "id": "jiACijzuCEU_"
      }
    },
    {
      "cell_type": "code",
      "source": [
        "a=input()\n",
        "print(a.swapcase())\n",
        "\n",
        "\n",
        "\n",
        "\n",
        "#without builtin function\n",
        "str=input()\n",
        "str1=\"\"\n",
        "for i in str:\n",
        "  if i.isupper():\n",
        "    i=i.lower()\n",
        "    str+=i\n",
        "  else:\n",
        "    i=i.upper()\n",
        "    str+=i\n",
        "print(str)"
      ],
      "metadata": {
        "colab": {
          "base_uri": "https://localhost:8080/"
        },
        "id": "hfDqTfV7CJii",
        "outputId": "6a0bd886-333a-4114-823f-3ceec6efed77"
      },
      "execution_count": null,
      "outputs": [
        {
          "output_type": "stream",
          "name": "stdout",
          "text": [
            "sAtHa\n",
            "SaThA\n"
          ]
        }
      ]
    },
    {
      "cell_type": "markdown",
      "source": [
        "TO CONVERT THE FIRST AND LAST CHARACTER INTO UPPERCASE IN A STRING"
      ],
      "metadata": {
        "id": "YaUoPXnCEGhO"
      }
    },
    {
      "cell_type": "code",
      "source": [
        "s=input()\n",
        "s=s[0].upper()+s[1:len(s)-1]+s[-1].upper()\n",
        "print(s)"
      ],
      "metadata": {
        "colab": {
          "base_uri": "https://localhost:8080/"
        },
        "id": "pQGtwMinEG6_",
        "outputId": "2c9b8e7d-a6cb-42ce-afd6-bd12261c6d35"
      },
      "execution_count": null,
      "outputs": [
        {
          "output_type": "stream",
          "name": "stdout",
          "text": [
            "satha\n",
            "SathA\n"
          ]
        }
      ]
    },
    {
      "cell_type": "markdown",
      "source": [],
      "metadata": {
        "id": "B2NTYc2yFjW1"
      }
    },
    {
      "cell_type": "code",
      "source": [
        "s=input()\n",
        "words=s.split()\n",
        "cap=[]\n",
        "for word in words:\n",
        "  if len(word)>1:\n",
        "    cap.append(word[0].upper()+word[1:-1]+word[-1].upper())\n",
        "  else:\n",
        "    cap.append(word.upper())\n",
        "print(\" \".join(cap))"
      ],
      "metadata": {
        "colab": {
          "base_uri": "https://localhost:8080/"
        },
        "id": "NaBn957OFjtr",
        "outputId": "fff6d617-8368-409f-808e-f36423888966"
      },
      "execution_count": null,
      "outputs": [
        {
          "output_type": "stream",
          "name": "stdout",
          "text": [
            "crack a code\n",
            "CracK A CodE\n"
          ]
        }
      ]
    },
    {
      "cell_type": "code",
      "source": [
        "s=input()\n",
        "s=s[::-1]\n",
        "print(s)\n",
        "\n",
        "#without using slicing\n",
        "s=input()\n",
        "str=\"\"\n",
        "for i in range(len(s)-1,-1,-1):\n",
        "  str+=s[i]\n",
        "print(str)"
      ],
      "metadata": {
        "colab": {
          "base_uri": "https://localhost:8080/"
        },
        "id": "U1PkK00HIUUR",
        "outputId": "e2a4be70-f722-4340-834d-286b0140e696"
      },
      "execution_count": null,
      "outputs": [
        {
          "output_type": "stream",
          "name": "stdout",
          "text": [
            "satha\n",
            "ahtas\n"
          ]
        }
      ]
    },
    {
      "cell_type": "code",
      "source": [
        "s=input()\n",
        "w=s.split()\n",
        "r=w[::-1]\n",
        "print(' '.join(r))"
      ],
      "metadata": {
        "colab": {
          "base_uri": "https://localhost:8080/"
        },
        "id": "m9UIJRCsJUcH",
        "outputId": "efec222b-4bd1-444c-eb4c-e7509cc1ddae"
      },
      "execution_count": null,
      "outputs": [
        {
          "output_type": "stream",
          "name": "stdout",
          "text": [
            "crack a code\n",
            "code a crack\n"
          ]
        }
      ]
    }
  ]
}