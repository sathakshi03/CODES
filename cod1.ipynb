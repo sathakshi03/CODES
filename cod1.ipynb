{
  "nbformat": 4,
  "nbformat_minor": 0,
  "metadata": {
    "colab": {
      "provenance": [],
      "authorship_tag": "ABX9TyOJjf8pZojmrmWUUxn10eoA",
      "include_colab_link": true
    },
    "kernelspec": {
      "name": "python3",
      "display_name": "Python 3"
    },
    "language_info": {
      "name": "python"
    }
  },
  "cells": [
    {
      "cell_type": "markdown",
      "metadata": {
        "id": "view-in-github",
        "colab_type": "text"
      },
      "source": [
        "<a href=\"https://colab.research.google.com/github/sathakshi03/CODES/blob/main/cod1.ipynb\" target=\"_parent\"><img src=\"https://colab.research.google.com/assets/colab-badge.svg\" alt=\"Open In Colab\"/></a>"
      ]
    },
    {
      "cell_type": "code",
      "execution_count": 1,
      "metadata": {
        "colab": {
          "base_uri": "https://localhost:8080/"
        },
        "id": "oAMaiN2qx7QK",
        "outputId": "14d8fddf-3b70-4aca-900d-e13a8b9e7fc0"
      },
      "outputs": [
        {
          "output_type": "stream",
          "name": "stdout",
          "text": [
            "7\n",
            "Not an Automorphic Number\n"
          ]
        }
      ],
      "source": [
        "#print given number is a automorphic number or not\n",
        "n=int(input())\n",
        "m=n*n\n",
        "num=m%10\n",
        "if(num%10==n):\n",
        "  print('Automorphic Number')\n",
        "else:\n",
        "  print('Not an Automorphic Number')"
      ]
    },
    {
      "cell_type": "markdown",
      "source": [
        "Check given number is Abundant number or not\n",
        "Abundant number:If the taken number then its considers the sum of the divisors excluding the number itself.That sum should be greater than the given number then it is said to be abundant number"
      ],
      "metadata": {
        "id": "Uh2MHIWMy-ml"
      }
    },
    {
      "cell_type": "code",
      "source": [
        "n=int(input())\n",
        "sum=0\n",
        "for i in range(1,n):\n",
        "  if(n%i==0):\n",
        "    sum=sum+i\n",
        "if(sum>n):\n",
        "  print('Abundant Number')\n",
        "else:\n",
        "  print('Not an Abundant Number')"
      ],
      "metadata": {
        "colab": {
          "base_uri": "https://localhost:8080/"
        },
        "id": "FwqS5K4rzM2e",
        "outputId": "58df8641-b965-4575-aa7c-8f68d0da4ea6"
      },
      "execution_count": 2,
      "outputs": [
        {
          "output_type": "stream",
          "name": "stdout",
          "text": [
            "12\n",
            "Abundant Number\n"
          ]
        }
      ]
    },
    {
      "cell_type": "markdown",
      "source": [
        "Harshad number:Given input's sum is divisible by the given input itself then the number is said to be a harshad number"
      ],
      "metadata": {
        "id": "qdxYJ8Uvz8g2"
      }
    },
    {
      "cell_type": "code",
      "source": [
        "n=int(input())\n",
        "sum=0\n",
        "temp=n\n",
        "while(temp>0):\n",
        "  digit=temp%10\n",
        "  sum=sum+digit\n",
        "  temp=temp//10\n",
        "if(n%sum==0):\n",
        "  print('Harshad Number')\n",
        "else:\n",
        "  print('no')"
      ],
      "metadata": {
        "colab": {
          "base_uri": "https://localhost:8080/"
        },
        "id": "WZAVSZFT21VO",
        "outputId": "4a0f1d80-62ba-4bd4-e38f-50534409d113"
      },
      "execution_count": null,
      "outputs": [
        {
          "name": "stdout",
          "output_type": "stream",
          "text": [
            "21\n"
          ]
        }
      ]
    },
    {
      "cell_type": "markdown",
      "source": [
        "Perfect number:If the taken number then its considers the sum of the divisors excluding the number itself.That sum is equal to the given number then it is said to be perfect number"
      ],
      "metadata": {
        "id": "F5gPGmWC4pB3"
      }
    },
    {
      "cell_type": "code",
      "source": [
        "n=int(input())\n",
        "sum=0\n",
        "for i in range(1,n):\n",
        "  if(n%i==0):\n",
        "    sum=sum+i\n",
        "if(sum==n):\n",
        "      print('Perfect Number')\n",
        "else:\n",
        "      print('Not a Perfect Number')"
      ],
      "metadata": {
        "id": "E38phvvJ4ry5"
      },
      "execution_count": null,
      "outputs": []
    },
    {
      "cell_type": "markdown",
      "source": [
        "Friendly pair:if we take two numbers then sums of the divisors excluding the numbers itself.That sums is divisible by the given numbers"
      ],
      "metadata": {
        "id": "dli4kYa26cle"
      }
    },
    {
      "cell_type": "code",
      "source": [
        "n=int(input())\n",
        "m=int(input())\n",
        "s1=0\n",
        "s2=0\n",
        "for i in range(1,n):\n",
        "  if(n%i==0):\n",
        "    s1=s1+i\n",
        "for j in range(1,m):\n",
        "  if(m%j==0):\n",
        "    s2=s2+j\n",
        "if(s1//n==s2//m):\n",
        "  print('friendly pair')\n",
        "else:\n",
        "  print('not a frindly pair')"
      ],
      "metadata": {
        "id": "cO5sirQE6x93"
      },
      "execution_count": null,
      "outputs": []
    },
    {
      "cell_type": "markdown",
      "source": [
        "Perfect Square:"
      ],
      "metadata": {
        "id": "OU13oYJM9TIE"
      }
    },
    {
      "cell_type": "code",
      "source": [
        "n=int(input())\n",
        "for i in range(1,n):\n",
        "  if(i*i==n):\n",
        "    print('Perfect Square')\n",
        "\n",
        "    #using math module\n",
        "import math\n",
        "n=int(input())\n",
        "s=math.sqrt(n)\n",
        "if(s%1==0):\n",
        "  print('Perfect Square')\n",
        "else:\n",
        "  print('Not a Perfect Square')\n"
      ],
      "metadata": {
        "id": "yUdlLKbY9W_l"
      },
      "execution_count": null,
      "outputs": []
    }
  ]
}