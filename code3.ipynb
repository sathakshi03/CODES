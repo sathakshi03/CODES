{
  "nbformat": 4,
  "nbformat_minor": 0,
  "metadata": {
    "colab": {
      "provenance": [],
      "authorship_tag": "ABX9TyMYlEZ0Gm4EeOVO2FKrFcFL",
      "include_colab_link": true
    },
    "kernelspec": {
      "name": "python3",
      "display_name": "Python 3"
    },
    "language_info": {
      "name": "python"
    }
  },
  "cells": [
    {
      "cell_type": "markdown",
      "metadata": {
        "id": "view-in-github",
        "colab_type": "text"
      },
      "source": [
        "<a href=\"https://colab.research.google.com/github/sathakshi03/CODES/blob/main/code3.ipynb\" target=\"_parent\"><img src=\"https://colab.research.google.com/assets/colab-badge.svg\" alt=\"Open In Colab\"/></a>"
      ]
    },
    {
      "cell_type": "code",
      "execution_count": 4,
      "metadata": {
        "colab": {
          "base_uri": "https://localhost:8080/"
        },
        "id": "CbAcSGCOSqno",
        "outputId": "75ec3bf3-8af0-442c-abe0-b25c596149ce"
      },
      "outputs": [
        {
          "output_type": "stream",
          "name": "stdout",
          "text": [
            "6\n",
            "3 2 1 7 5 4\n",
            "7\n"
          ]
        }
      ],
      "source": [
        "l=int(input())\n",
        "arr=list(map(int,input().split()))\n",
        "even=[]\n",
        "odd=[]\n",
        "for i in arr:\n",
        "    if i%2==0:\n",
        "        even.append(i)\n",
        "    else:\n",
        "        odd.append(i)\n",
        "even.sort()\n",
        "odd.sort()\n",
        "print(even[-2]+odd[-2])"
      ]
    },
    {
      "cell_type": "code",
      "source": [
        "def Operation(c,a,b):\n",
        "    if c==1:\n",
        "        print(a+b)\n",
        "    elif c==2:\n",
        "        print(a-b)\n",
        "    elif c==3:\n",
        "        print(a*b)\n",
        "    elif c==4:\n",
        "        print(a//b)\n",
        "    else:\n",
        "      print(-1)\n",
        "c=int(input())\n",
        "a=int(input())\n",
        "b=int(input())\n",
        "Operation(c,a,b)"
      ],
      "metadata": {
        "colab": {
          "base_uri": "https://localhost:8080/"
        },
        "id": "mDw7yO4CWhwP",
        "outputId": "f3ad70b5-9b22-4790-cb10-3f95698c12e2"
      },
      "execution_count": 5,
      "outputs": [
        {
          "output_type": "stream",
          "name": "stdout",
          "text": [
            "3\n",
            "10\n",
            "20\n",
            "200\n"
          ]
        }
      ]
    },
    {
      "cell_type": "code",
      "source": [
        "def Max(arr):\n",
        "  max_value=max(arr)\n",
        "  max_index=arr.index(max_value)\n",
        "  return max_value,max_index\n",
        "arr=list(map(int,input().split()))\n",
        "print(Max(arr))"
      ],
      "metadata": {
        "colab": {
          "base_uri": "https://localhost:8080/"
        },
        "id": "uO7Iun3rW1wn",
        "outputId": "67d1cbe3-47c0-464d-a8c6-f048ffda899c"
      },
      "execution_count": 6,
      "outputs": [
        {
          "output_type": "stream",
          "name": "stdout",
          "text": [
            "15 78 96 17 25\n",
            "(96, 2)\n"
          ]
        }
      ]
    },
    {
      "cell_type": "code",
      "source": [
        "def Password(n,str):\n",
        "  if n<4:\n",
        "    return 0\n",
        "  if str[0]==\" \":\n",
        "    return 0\n",
        "  cap=0\n",
        "  num=0\n",
        "  for i in range(n):\n",
        "    if str[i]>=\"A\" and str[i]<=\"Z\":\n",
        "      cap+=1\n",
        "    elif str[i].isdigit():\n",
        "      num+=1\n",
        "    elif str[i]==\" \" or str[i]==\"/\":\n",
        "      return 0\n",
        "  if cap==0 or num==0:\n",
        "    return 0\n",
        "  else:\n",
        "    return 1\n",
        "n=len(str)\n",
        "str=input()\n",
        "print(Password(n,str))"
      ],
      "metadata": {
        "colab": {
          "base_uri": "https://localhost:8080/"
        },
        "id": "kbQ4JmbXXVXf",
        "outputId": "7c5c24b1-694a-4c11-c2ab-2e8f29454a80"
      },
      "execution_count": 7,
      "outputs": [
        {
          "output_type": "stream",
          "name": "stdout",
          "text": [
            "4\n",
            "Aobc\n",
            "0\n"
          ]
        }
      ]
    },
    {
      "cell_type": "code",
      "source": [
        "def Binary(str):\n",
        "  a=int(str[0]) # Convert the first character to an integer\n",
        "  i=1\n",
        "  while i<len(str)-1:\n",
        "    if str[i]=='A':\n",
        "      a&=int(str[i+1])\n",
        "    elif str[i]=='B':\n",
        "      a|=int(str[i+1])\n",
        "    else:\n",
        "      a^=int(str[i+1])\n",
        "    i+=2\n",
        "  return a\n",
        "str=input()\n",
        "print(Binary(str))"
      ],
      "metadata": {
        "colab": {
          "base_uri": "https://localhost:8080/"
        },
        "id": "FTaSItWjXV0Y",
        "outputId": "ae48611c-578a-4917-b043-df551178609f"
      },
      "execution_count": 17,
      "outputs": [
        {
          "output_type": "stream",
          "name": "stdout",
          "text": [
            "1C0C1C1A0B1\n",
            "1\n"
          ]
        }
      ]
    }
  ]
}